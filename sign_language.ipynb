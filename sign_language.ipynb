{
 "cells": [
  {
   "cell_type": "markdown",
   "metadata": {},
   "source": [
    "# ____________________ Sign Language Detection ____________________"
   ]
  },
  {
   "cell_type": "markdown",
   "metadata": {},
   "source": [
    "# Install and import dependancies"
   ]
  },
  {
   "cell_type": "code",
   "execution_count": null,
   "metadata": {},
   "outputs": [],
   "source": [
    "\n",
    "!git clone https://github.com/ultralytics/yolov5  # clone\n",
    "%cd yolov5\n",
    "%pip install -r requirements.txt  # install\n",
    "\n",
    "!pip3 install torch torchvision torchaudio --extra-index-url https://download.pytorch.org/whl/cu117\n",
    "\n",
    "import torch\n",
    "from matplotlib import pyplot as plt\n",
    "import numpy as np\n",
    "import cv2\n",
    "from PIL import Image\n",
    "from PIL import ImageTk\n",
    "import threading\n",
    "import tkinter as tk\n",
    "from tkinter import PhotoImage\n",
    "import pandas as pd\n",
    "import random"
   ]
  },
  {
   "cell_type": "markdown",
   "metadata": {},
   "source": [
    "# Train and validate the model"
   ]
  },
  {
   "cell_type": "code",
   "execution_count": null,
   "metadata": {},
   "outputs": [],
   "source": [
    "import os\n",
    "os.environ[\"KMP_DUPLICATE_LIB_OK\"]=\"TRUE\"\n",
    "\n",
    "!python train.py --img 416 --batch 16 --epoch 300 --data sign_language_dataset.yaml --weights yolov5l.pt --cache GPU #--optimizer Adam"
   ]
  },
  {
   "cell_type": "code",
   "execution_count": null,
   "metadata": {},
   "outputs": [],
   "source": [
    "# !python detect.py --weights runs/train/exp56/weights/best.pt --img 416 --conf 0.3 --source letter_images-2/valid/images"
   ]
  },
  {
   "cell_type": "code",
   "execution_count": 9,
   "metadata": {},
   "outputs": [
    {
     "name": "stderr",
     "output_type": "stream",
     "text": [
      "Downloading: \"https://github.com/ultralytics/yolov5/zipball/master\" to C:\\Users\\xxram/.cache\\torch\\hub\\master.zip\n",
      "YOLOv5  2023-1-22 Python-3.8.8 torch-1.13.0+cu117 CUDA:0 (NVIDIA GeForce RTX 2070, 8192MiB)\n",
      "\n",
      "Fusing layers... \n",
      "Model summary: 267 layers, 46232133 parameters, 0 gradients, 108.0 GFLOPs\n",
      "Adding AutoShape... \n"
     ]
    }
   ],
   "source": [
    "model = torch.hub.load('ultralytics/yolov5', 'custom', path='../yolov5/runs/train/exp56/weights/best.pt', force_reload=True)"
   ]
  },
  {
   "cell_type": "markdown",
   "metadata": {},
   "source": [
    "# Run the model"
   ]
  },
  {
   "cell_type": "code",
   "execution_count": null,
   "metadata": {},
   "outputs": [],
   "source": [
    "cv2.__version__\n",
    "!python -V\n",
    "\n",
    "# Run the below commands in terminal if the there is an error:\n",
    "#\n",
    "# pip uninstall opencv-python\n",
    "# pip install opencv-python"
   ]
  },
  {
   "cell_type": "markdown",
   "metadata": {},
   "source": [
    "Turns on the camera after the user presses 'Start'. Freezes the frame when the user presses 'Stop'"
   ]
  },
  {
   "cell_type": "code",
   "execution_count": 10,
   "metadata": {},
   "outputs": [],
   "source": [
    "letter = \"\"\n",
    "def random_letter():\n",
    "    global letter\n",
    "    letter = random.choice(['A', 'B', 'C', 'D', 'E', 'F', 'G', 'I', 'K', 'L', 'M', 'N', 'O', 'P', 'Q', 'R', 'S', 'T', 'U', 'V', 'W', 'X', 'Y', 'Z'])\n",
    "    rand_label.config(text=letter)\n",
    "\n",
    "def start_button_clicked(videoloop_stop):\n",
    "    threading.Thread(target=videoLoop, args=(videoloop_stop,)).start()\n",
    "\n",
    "def stop_button_clicked(videoloop_stop):\n",
    "    videoloop_stop[0] = True\n",
    "\n",
    "def show_image():\n",
    "    popup = tk.Toplevel()\n",
    "    popup.title(\"Letter Reference\")\n",
    "\n",
    "    image = PhotoImage(file=\"../images/letters.gif\")\n",
    "    label = tk.Label(popup, image=image)\n",
    "    label.image = image\n",
    "    label.pack()\n",
    "\n",
    "def show_CS():\n",
    "    desc = tk.Toplevel()\n",
    "    desc.title(\"Sign Descriptions\")\n",
    "    label_6 = tk.Label(desc, text=\"Remember you're signing for the person in front of you, not for yoursel!\")\n",
    "    label_6.config(bg=\"#ca7ff2\", font=(\"\", 20))\n",
    "    label_6.pack()\n",
    "    label_1 = tk.Label(desc, text=\"All vowels correspond to each finger on your hand, starting with 'A' at the thumb and ending with 'U' at the pinky!\")\n",
    "    label_1.config(bg=\"#a9ebf4\", font=(\"\", 20))\n",
    "    label_1.pack()\n",
    "    label_2 = tk.Label(desc, text=\"'L', 'M', 'N', and 'V' all look similar and use the palm of your hand!\")\n",
    "    label_2.config(bg=\"#2acee3\", font=(\"\", 20))\n",
    "    label_2.pack()\n",
    "    label_3 = tk.Label(desc, text=\"The letter 'S' uses depth. Try different positions if you're struggling with this one!\")\n",
    "    label_3.config(bg=\"#a9ebf4\", font=(\"\", 20))\n",
    "    label_3.pack()\n",
    "    label_4 = tk.Label(desc, text=\"Interlace all of your fingers for 'W' while only crossing your two index fingures for 'X'!\")\n",
    "    label_4.config(bg=\"#2acee3\", font=(\"\", 20))\n",
    "    label_4.pack()\n",
    "    label_5 = tk.Label(desc, text=\"Some letters like 'P', 'C', and 'D' are meant to look like the way they're written!\")\n",
    "    label_5.config(bg=\"#a9ebf4\", font=(\"\", 20))\n",
    "    label_5.pack()\n",
    "    desc.config(bg = \"#8d9ee9\")\n",
    "    desc.geometry(\"1500x200+0+0\")\n",
    "\n",
    "    \n",
    "def videoLoop(mirror=False):\n",
    "    cap = cv2.VideoCapture(2)\n",
    "    cap.set(cv2.CAP_PROP_FRAME_WIDTH, 700)\n",
    "    cap.set(cv2.CAP_PROP_FRAME_HEIGHT, 450)\n",
    "\n",
    "    while True:\n",
    "        ret, frame = cap.read()\n",
    "        results = model(frame)\n",
    "\n",
    "        for i, row in results.pandas().xyxy[0].iterrows():\n",
    "            name = (row['name']).upper()\n",
    "            conf = (row['confidence'])\n",
    "            if name == letter:\n",
    "                if conf >= 0.5:\n",
    "                    label1 = tk.Label(root, text=(name, \"Well Done!\"), bg=\"#63ca7b\", font=(\"\", 20))\n",
    "                    label1.place(x=50, y=600, width=400, height=150)\n",
    "                elif conf >= 0.3 and conf < 0.5:\n",
    "                    label2 = tk.Label(root, text=(name, \"Very Close\"), bg=\"#95e576\", font=(\"\", 20))\n",
    "                    label2.place(x=50, y=600, width=400, height=150)\n",
    "                elif conf >= 0.1 and conf < 0.3:\n",
    "                    label3 = tk.Label(root, text=(name, \"Getting There\"), bg = \"#dee066\", font=(\"\", 20))\n",
    "                    label3.place(x=50, y=600, width=400, height=150)\n",
    "                elif conf < 0.1:\n",
    "                    label4 = tk.Label(root, text=(name, \"Needs Improvement!\"), bg = \"#fb5e54\", font=(\"\", 20))\n",
    "                    label4.place(x=50, y=600, width=400, height=150)\n",
    "            \n",
    "        if mirror is True:\n",
    "            frame = frame[:, ::-1]\n",
    "            \n",
    "        image = cv2.cvtColor(frame, cv2.COLOR_BGR2RGB)\n",
    "        image = Image.fromarray(image)\n",
    "        image = ImageTk.PhotoImage(image)\n",
    "        panel = tk.Label(image=image)\n",
    "        panel.image = image\n",
    "        panel.place(x=50, y=120)\n",
    "\n",
    "        if videoloop_stop[0]:\n",
    "            videoloop_stop[0] = False\n",
    "            panel.destroy()\n",
    "            cap.release()\n",
    "            break\n",
    "\n",
    "\n",
    "videoloop_stop = [False]\n",
    "\n",
    "root = tk.Tk()\n",
    "root.title(\"BSL Learning Tool\")\n",
    "root.config(bg = \"#f3fecb\")\n",
    "root.geometry(\"1900x1080+0+0\")\n",
    "\n",
    "# display prompt for which letter to sign\n",
    "rand_label = tk.Label(root, text=(\"A\"), font=(\"\", 40))\n",
    "rand_label.config(bg=\"#f3fecb\")\n",
    "rand_label.pack()\n",
    "\n",
    "# button to change the prompt letter \n",
    "letter_button = tk.Button(root, text=\"New Letter\", command=random_letter)\n",
    "letter_button.pack()\n",
    "\n",
    "# button to display the image\n",
    "img_button = tk.Button(root, text=\"Reference Image\", bg=\"#fff\", font=(\"\", 15), command=show_image)\n",
    "img_button.config(bg=\"#e2fc84\")\n",
    "img_button.place(x=1225, y=0, width=300, height=75)\n",
    "\n",
    "# button to show how to do the signs\n",
    "img_button = tk.Button(root, text=\"Cheat Sheet\", bg=\"#fff\", font=(\"\", 15), command=show_CS)\n",
    "img_button.config(bg=\"#e2fc84\")\n",
    "img_button.place(x=1225, y=90, width=300, height=75)\n",
    "\n",
    "# button to start the camera\n",
    "start_button = tk.Button(root, text=\"Start Camera\", bg=\"#fff\", font=(\"\", 25),command=lambda: start_button_clicked(videoloop_stop))\n",
    "start_button.place(x=1200, y=500, width=300, height=75)\n",
    "start_button.config(bg=\"#fc3532\")\n",
    "\n",
    "# button to stop the camera (at that frame)\n",
    "stop_button = tk.Button(root, text=\"Freeze Frame\", bg=\"#fff\", font=(\"\", 25),command=lambda: stop_button_clicked(videoloop_stop))\n",
    "stop_button.place(x=1200, y=650, width=300, height=75)\n",
    "stop_button.config(bg=\"#3b95c4\")\n",
    "\n",
    "\n",
    "root.mainloop()"
   ]
  }
 ],
 "metadata": {
  "kernelspec": {
   "display_name": "Python 3.8.8 ('base')",
   "language": "python",
   "name": "python3"
  },
  "language_info": {
   "codemirror_mode": {
    "name": "ipython",
    "version": 3
   },
   "file_extension": ".py",
   "mimetype": "text/x-python",
   "name": "python",
   "nbconvert_exporter": "python",
   "pygments_lexer": "ipython3",
   "version": "3.8.8 (default, Apr 13 2021, 15:08:03) [MSC v.1916 64 bit (AMD64)]"
  },
  "orig_nbformat": 4,
  "vscode": {
   "interpreter": {
    "hash": "a322872bde48165c8b38fc07aafe23838cb691b5065cdeed8882e01b10b50872"
   }
  }
 },
 "nbformat": 4,
 "nbformat_minor": 2
}
